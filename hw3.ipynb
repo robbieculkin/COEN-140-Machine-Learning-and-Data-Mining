{
 "cells": [
  {
   "cell_type": "markdown",
   "metadata": {},
   "source": [
    "# COEN 140, Homework 3: Linear & Ridge Regression\n",
    "## Robbie Culkin"
   ]
  },
  {
   "cell_type": "code",
   "execution_count": 1,
   "metadata": {},
   "outputs": [
    {
     "name": "stdout",
     "output_type": "stream",
     "text": [
      "Populating the interactive namespace from numpy and matplotlib\n"
     ]
    }
   ],
   "source": [
    "%pylab inline\n",
    "import pandas as pd"
   ]
  },
  {
   "cell_type": "code",
   "execution_count": 2,
   "metadata": {},
   "outputs": [
    {
     "data": {
      "text/html": [
       "<div>\n",
       "<style>\n",
       "    .dataframe thead tr:only-child th {\n",
       "        text-align: right;\n",
       "    }\n",
       "\n",
       "    .dataframe thead th {\n",
       "        text-align: left;\n",
       "    }\n",
       "\n",
       "    .dataframe tbody tr th {\n",
       "        vertical-align: top;\n",
       "    }\n",
       "</style>\n",
       "<table border=\"1\" class=\"dataframe\">\n",
       "  <thead>\n",
       "    <tr style=\"text-align: right;\">\n",
       "      <th></th>\n",
       "      <th>ViolentCrimesPerPop</th>\n",
       "      <th>population</th>\n",
       "      <th>householdsize</th>\n",
       "      <th>agePct12t21</th>\n",
       "      <th>agePct12t29</th>\n",
       "      <th>agePct16t24</th>\n",
       "      <th>agePct65up</th>\n",
       "      <th>numbUrban</th>\n",
       "      <th>pctUrban</th>\n",
       "      <th>medIncome</th>\n",
       "      <th>...</th>\n",
       "      <th>NumStreet</th>\n",
       "      <th>PctForeignBorn</th>\n",
       "      <th>PctBornSameState</th>\n",
       "      <th>PctSameHouse85</th>\n",
       "      <th>PctSameCity85</th>\n",
       "      <th>PctSameState85</th>\n",
       "      <th>LandArea</th>\n",
       "      <th>PopDens</th>\n",
       "      <th>PctUsePubTrans</th>\n",
       "      <th>LemasPctOfficDrugUn</th>\n",
       "    </tr>\n",
       "  </thead>\n",
       "  <tbody>\n",
       "    <tr>\n",
       "      <th>0</th>\n",
       "      <td>0.67</td>\n",
       "      <td>-0.45</td>\n",
       "      <td>-1.85</td>\n",
       "      <td>-1.06</td>\n",
       "      <td>0.67</td>\n",
       "      <td>0.08</td>\n",
       "      <td>-0.85</td>\n",
       "      <td>-0.34</td>\n",
       "      <td>0.68</td>\n",
       "      <td>-0.24</td>\n",
       "      <td>...</td>\n",
       "      <td>-0.23</td>\n",
       "      <td>-0.02</td>\n",
       "      <td>-0.53</td>\n",
       "      <td>-1.08</td>\n",
       "      <td>-0.13</td>\n",
       "      <td>-0.66</td>\n",
       "      <td>-0.41</td>\n",
       "      <td>-0.56</td>\n",
       "      <td>1.26</td>\n",
       "      <td>-0.39</td>\n",
       "    </tr>\n",
       "    <tr>\n",
       "      <th>1</th>\n",
       "      <td>0.43</td>\n",
       "      <td>-0.45</td>\n",
       "      <td>-0.27</td>\n",
       "      <td>-0.22</td>\n",
       "      <td>-0.17</td>\n",
       "      <td>-0.34</td>\n",
       "      <td>-0.58</td>\n",
       "      <td>-0.50</td>\n",
       "      <td>-1.57</td>\n",
       "      <td>-0.29</td>\n",
       "      <td>...</td>\n",
       "      <td>-0.23</td>\n",
       "      <td>-0.33</td>\n",
       "      <td>-0.58</td>\n",
       "      <td>0.03</td>\n",
       "      <td>0.22</td>\n",
       "      <td>-0.46</td>\n",
       "      <td>-0.50</td>\n",
       "      <td>-0.11</td>\n",
       "      <td>-0.62</td>\n",
       "      <td>-0.39</td>\n",
       "    </tr>\n",
       "    <tr>\n",
       "      <th>2</th>\n",
       "      <td>0.12</td>\n",
       "      <td>-0.14</td>\n",
       "      <td>1.87</td>\n",
       "      <td>0.55</td>\n",
       "      <td>0.04</td>\n",
       "      <td>0.02</td>\n",
       "      <td>-1.19</td>\n",
       "      <td>-0.03</td>\n",
       "      <td>0.68</td>\n",
       "      <td>1.05</td>\n",
       "      <td>...</td>\n",
       "      <td>-0.23</td>\n",
       "      <td>-0.11</td>\n",
       "      <td>-1.51</td>\n",
       "      <td>1.07</td>\n",
       "      <td>0.07</td>\n",
       "      <td>-0.01</td>\n",
       "      <td>-0.41</td>\n",
       "      <td>0.77</td>\n",
       "      <td>0.52</td>\n",
       "      <td>-0.39</td>\n",
       "    </tr>\n",
       "    <tr>\n",
       "      <th>3</th>\n",
       "      <td>0.03</td>\n",
       "      <td>-0.38</td>\n",
       "      <td>0.53</td>\n",
       "      <td>-0.28</td>\n",
       "      <td>-0.79</td>\n",
       "      <td>-0.64</td>\n",
       "      <td>-0.35</td>\n",
       "      <td>-0.34</td>\n",
       "      <td>0.46</td>\n",
       "      <td>0.66</td>\n",
       "      <td>...</td>\n",
       "      <td>-0.23</td>\n",
       "      <td>-0.46</td>\n",
       "      <td>0.54</td>\n",
       "      <td>0.58</td>\n",
       "      <td>-0.08</td>\n",
       "      <td>-0.61</td>\n",
       "      <td>-0.23</td>\n",
       "      <td>-0.70</td>\n",
       "      <td>-0.62</td>\n",
       "      <td>-0.39</td>\n",
       "    </tr>\n",
       "    <tr>\n",
       "      <th>4</th>\n",
       "      <td>0.14</td>\n",
       "      <td>-0.30</td>\n",
       "      <td>-1.12</td>\n",
       "      <td>-0.74</td>\n",
       "      <td>-0.10</td>\n",
       "      <td>-0.40</td>\n",
       "      <td>-0.30</td>\n",
       "      <td>-0.19</td>\n",
       "      <td>0.68</td>\n",
       "      <td>0.76</td>\n",
       "      <td>...</td>\n",
       "      <td>-0.23</td>\n",
       "      <td>2.10</td>\n",
       "      <td>-0.92</td>\n",
       "      <td>-0.25</td>\n",
       "      <td>0.52</td>\n",
       "      <td>-0.06</td>\n",
       "      <td>-0.50</td>\n",
       "      <td>1.71</td>\n",
       "      <td>-0.27</td>\n",
       "      <td>-0.39</td>\n",
       "    </tr>\n",
       "  </tbody>\n",
       "</table>\n",
       "<p>5 rows × 96 columns</p>\n",
       "</div>"
      ],
      "text/plain": [
       "   ViolentCrimesPerPop  population  householdsize  agePct12t21  agePct12t29  \\\n",
       "0                 0.67       -0.45          -1.85        -1.06         0.67   \n",
       "1                 0.43       -0.45          -0.27        -0.22        -0.17   \n",
       "2                 0.12       -0.14           1.87         0.55         0.04   \n",
       "3                 0.03       -0.38           0.53        -0.28        -0.79   \n",
       "4                 0.14       -0.30          -1.12        -0.74        -0.10   \n",
       "\n",
       "   agePct16t24  agePct65up  numbUrban  pctUrban  medIncome  \\\n",
       "0         0.08       -0.85      -0.34      0.68      -0.24   \n",
       "1        -0.34       -0.58      -0.50     -1.57      -0.29   \n",
       "2         0.02       -1.19      -0.03      0.68       1.05   \n",
       "3        -0.64       -0.35      -0.34      0.46       0.66   \n",
       "4        -0.40       -0.30      -0.19      0.68       0.76   \n",
       "\n",
       "          ...           NumStreet  PctForeignBorn  PctBornSameState  \\\n",
       "0         ...               -0.23           -0.02             -0.53   \n",
       "1         ...               -0.23           -0.33             -0.58   \n",
       "2         ...               -0.23           -0.11             -1.51   \n",
       "3         ...               -0.23           -0.46              0.54   \n",
       "4         ...               -0.23            2.10             -0.92   \n",
       "\n",
       "   PctSameHouse85  PctSameCity85  PctSameState85  LandArea  PopDens  \\\n",
       "0           -1.08          -0.13           -0.66     -0.41    -0.56   \n",
       "1            0.03           0.22           -0.46     -0.50    -0.11   \n",
       "2            1.07           0.07           -0.01     -0.41     0.77   \n",
       "3            0.58          -0.08           -0.61     -0.23    -0.70   \n",
       "4           -0.25           0.52           -0.06     -0.50     1.71   \n",
       "\n",
       "   PctUsePubTrans  LemasPctOfficDrugUn  \n",
       "0            1.26                -0.39  \n",
       "1           -0.62                -0.39  \n",
       "2            0.52                -0.39  \n",
       "3           -0.62                -0.39  \n",
       "4           -0.27                -0.39  \n",
       "\n",
       "[5 rows x 96 columns]"
      ]
     },
     "execution_count": 2,
     "metadata": {},
     "output_type": "execute_result"
    }
   ],
   "source": [
    "train = pd.read_csv('data/crime-train.txt',delimiter='\\t')\n",
    "test = pd.read_csv('data/crime-test.txt',delimiter='\\t')\n",
    "train.head()"
   ]
  },
  {
   "cell_type": "code",
   "execution_count": 3,
   "metadata": {},
   "outputs": [
    {
     "name": "stdout",
     "output_type": "stream",
     "text": [
      "(1595, 95)\n",
      "(1595,)\n"
     ]
    }
   ],
   "source": [
    "X_train = train.drop('ViolentCrimesPerPop',axis=1)\n",
    "y_train = train['ViolentCrimesPerPop']\n",
    "print X_train.shape\n",
    "print y_train.shape"
   ]
  },
  {
   "cell_type": "code",
   "execution_count": 4,
   "metadata": {},
   "outputs": [
    {
     "name": "stdout",
     "output_type": "stream",
     "text": [
      "(399, 95)\n",
      "(399,)\n"
     ]
    }
   ],
   "source": [
    "X_test = test.drop('ViolentCrimesPerPop',axis=1)\n",
    "y_test = test['ViolentCrimesPerPop']\n",
    "print X_test.shape\n",
    "print y_test.shape"
   ]
  },
  {
   "cell_type": "code",
   "execution_count": 5,
   "metadata": {
    "collapsed": true
   },
   "outputs": [],
   "source": [
    "def rmse(y_true,y_pred):\n",
    "    y_true = y_true.reshape(y_true.shape[0],1)    \n",
    "    y_pred = y_pred.reshape(y_pred.shape[0],1)\n",
    "    \n",
    "    return (sqrt(np.dot((y_true-y_pred).T,(y_true-y_pred))/y_true.shape[0]))[0][0]"
   ]
  },
  {
   "cell_type": "markdown",
   "metadata": {},
   "source": [
    "## OLS linear regression, closed form\n",
    "Perform linear regression directly using the closed form solution. Compute the RMSE value on the training data and test data, respectively. "
   ]
  },
  {
   "cell_type": "code",
   "execution_count": 6,
   "metadata": {
    "collapsed": true
   },
   "outputs": [],
   "source": [
    "class OLS_model():\n",
    "    \n",
    "    def fit(self,X_train,y_train):\n",
    "        X = X_train.copy()\n",
    "        X['bias'] = np.ones(X.shape[0])\n",
    "        \n",
    "        self.w = np.dot(np.dot(np.linalg.inv(np.dot(X.T,X)),X.T),y_train)\n",
    "        return self\n",
    "    \n",
    "    def predict(self,X_test):\n",
    "        X = X_test.copy()\n",
    "        X['bias'] = np.ones(X.shape[0])\n",
    "        \n",
    "        return np.dot(self.w,X.T)"
   ]
  },
  {
   "cell_type": "markdown",
   "metadata": {},
   "source": [
    "Evaluate on training data"
   ]
  },
  {
   "cell_type": "code",
   "execution_count": 7,
   "metadata": {},
   "outputs": [
    {
     "name": "stdout",
     "output_type": "stream",
     "text": [
      "Training RMSE: 0.127689674218\n"
     ]
    }
   ],
   "source": [
    "lr = OLS_model()\n",
    "lr = lr.fit(X_train,y_train)\n",
    "y_train_hat = lr.predict(X_train)\n",
    "\n",
    "print 'Training RMSE:', rmse(y_train.values,y_train_hat)"
   ]
  },
  {
   "cell_type": "markdown",
   "metadata": {},
   "source": [
    "Evaluate on test data"
   ]
  },
  {
   "cell_type": "code",
   "execution_count": 8,
   "metadata": {},
   "outputs": [
    {
     "name": "stdout",
     "output_type": "stream",
     "text": [
      "Test RMSE: 0.145834644909\n"
     ]
    }
   ],
   "source": [
    "y_test_hat = lr.predict(X_test)\n",
    "\n",
    "print 'Test RMSE:', rmse(y_test.values,y_test_hat)"
   ]
  },
  {
   "cell_type": "markdown",
   "metadata": {},
   "source": [
    "## Ridge Regression, closed form\n",
    "Perform ridge regression directly using the closed form solution. Use k-fold cross validate (k=5) to select the optimal parameter. Compute the RMSE value on the test data. You can begin by running the solver with λ= 400. Then, cut λ down by a factor of 2 and  run again. Continue the process of cutting λ by a factor of 2 until you have models for 10 values of λ in total."
   ]
  },
  {
   "cell_type": "code",
   "execution_count": 9,
   "metadata": {
    "collapsed": true
   },
   "outputs": [],
   "source": [
    "class RR_model:\n",
    "    \n",
    "    def __init__(self,lbda):\n",
    "        self.lbda = lbda\n",
    "        \n",
    "    def fit(self,X_train,y_train):\n",
    "        X = X_train.copy()\n",
    "        X['bias'] = np.ones(X.shape[0])\n",
    "        \n",
    "        self.w = np.dot(np.dot(np.linalg.inv(np.dot(X.T,X)+lbda*np.identity(X.shape[1])),X.T),y_train)\n",
    "        return self\n",
    "    \n",
    "    def predict(self,X_test):\n",
    "        X = X_test.copy()\n",
    "        X['bias'] = np.ones(X.shape[0])\n",
    "        \n",
    "        return np.dot(self.w,X.T)"
   ]
  },
  {
   "cell_type": "markdown",
   "metadata": {},
   "source": [
    "Cross validation function"
   ]
  },
  {
   "cell_type": "code",
   "execution_count": 10,
   "metadata": {
    "collapsed": true
   },
   "outputs": [],
   "source": [
    "def cross_val(model,X,y,k):\n",
    "    total = 0\n",
    "    for ii in range(k):\n",
    "        X_trn = pd.concat([X.iloc[:ii*len(X)/k], X.iloc[(ii+1)*len(X)/k:]])\n",
    "        y_trn = pd.concat([y.iloc[:ii*len(y)/k], y.iloc[(ii+1)*len(y)/k:]])\n",
    "        \n",
    "        X_tst = X.iloc[ii*len(X)/k:(ii+1)*len(X)/k].copy()\n",
    "        y_tst = y.iloc[ii*len(y)/k:(ii+1)*len(y)/k].copy()\n",
    "        \n",
    "        m = model.fit(X_trn,y_trn)\n",
    "        y_tst_hat = m.predict(X_tst)\n",
    "        \n",
    "        total += rmse(y_tst.values,y_tst_hat)\n",
    "    return total/k"
   ]
  },
  {
   "cell_type": "markdown",
   "metadata": {},
   "source": [
    "Search for optimal lambda"
   ]
  },
  {
   "cell_type": "code",
   "execution_count": 11,
   "metadata": {
    "scrolled": true
   },
   "outputs": [
    {
     "name": "stdout",
     "output_type": "stream",
     "text": [
      "Lambda:  400.0 CV RMSE: 0.149512776191\n",
      "Lambda:  200.0 CV RMSE: 0.140694018453\n",
      "Lambda:  100.0 CV RMSE: 0.137276772232\n",
      "Lambda:  50.0 CV RMSE: 0.136155943928\n",
      "Lambda:  25.0 CV RMSE: 0.135915859199\n",
      "Lambda:  12.5 CV RMSE: 0.136022374462\n",
      "Lambda:  6.25 CV RMSE: 0.136267864941\n",
      "Lambda:  3.125 CV RMSE: 0.136570956936\n",
      "Lambda:  1.5625 CV RMSE: 0.136887640732\n",
      "Lambda:  0.78125 CV RMSE: 0.137176268069\n"
     ]
    }
   ],
   "source": [
    "lbda = 400. #initial lambda try, will iterate down from here\n",
    "k=5       #for k-fold cross validation\n",
    "\n",
    "for ii in range(10): #try different lambdas\n",
    "    rr = RR_model(lbda)\n",
    "    print 'Lambda: ',lbda,'CV RMSE:',cross_val(rr,X_train,y_train,k)\n",
    "        \n",
    "    lbda = lbda/2.0"
   ]
  },
  {
   "cell_type": "markdown",
   "metadata": {},
   "source": [
    "From the above result we can see that the optimal lambda value is 25, as this is where our cross validation RMSE is minimized.\n",
    "\n",
    "Compute test RMSE with this lambda:"
   ]
  },
  {
   "cell_type": "code",
   "execution_count": 12,
   "metadata": {},
   "outputs": [
    {
     "name": "stdout",
     "output_type": "stream",
     "text": [
      "0.145877655881\n"
     ]
    }
   ],
   "source": [
    "rr = RR_model(25)\n",
    "rr = rr.fit(X_train,y_train)\n",
    "y_test_hat = rr.predict(X_test)\n",
    "\n",
    "print rmse(y_test.values, y_test_hat)"
   ]
  },
  {
   "cell_type": "markdown",
   "metadata": {},
   "source": [
    "## OLS Linear Regression, gradient descent\n",
    "Perform linear regression using the gradient descent algorithm. Compute the RMSE value on the training data and test data, respectively. For  the initial  weights, you can just use Gaussian N(0,  1)random variables. Define “converging” as the change in any coefficient between one iteration and the  next  is  no larger than 10^−5. "
   ]
  },
  {
   "cell_type": "code",
   "execution_count": 13,
   "metadata": {
    "collapsed": true
   },
   "outputs": [],
   "source": [
    "class OLS_model_gd:\n",
    "    \n",
    "    def fit(self,X_train,y_train,alpha):\n",
    "        X = X_train.copy()\n",
    "        X['bias'] = np.ones(X.shape[0])\n",
    "        \n",
    "        np.random.seed(42)\n",
    "        w = np.random.normal(0,1,size=X.shape[1])\n",
    "        \n",
    "        epsilon = 1\n",
    "        while epsilon > 10e-7:\n",
    "            w_new = w - alpha/float(X.shape[0])*np.dot((np.dot(X,w) - y_train),X)\n",
    "            epsilon = numpy.linalg.norm(w_new - w) #euclidian distance\n",
    "            w = w_new\n",
    "            \n",
    "        self.w = w\n",
    "        return self\n",
    "    \n",
    "    def predict(self,X_test):\n",
    "        X = X_test.copy()\n",
    "        X['bias'] = np.ones(X.shape[0])\n",
    "        \n",
    "        return np.dot(self.w,X.T)"
   ]
  },
  {
   "cell_type": "markdown",
   "metadata": {},
   "source": [
    "Evaluate on training data"
   ]
  },
  {
   "cell_type": "code",
   "execution_count": 14,
   "metadata": {},
   "outputs": [
    {
     "name": "stdout",
     "output_type": "stream",
     "text": [
      "Training RMSE: 0.131493705072\n"
     ]
    }
   ],
   "source": [
    "lr = OLS_model_gd()\n",
    "lr = lr.fit(X_train,y_train,0.001)\n",
    "y_train_hat = lr.predict(X_train)\n",
    "\n",
    "print 'Training RMSE:', rmse(y_train.values,y_train_hat)"
   ]
  },
  {
   "cell_type": "markdown",
   "metadata": {},
   "source": [
    "Evaluate on test data"
   ]
  },
  {
   "cell_type": "code",
   "execution_count": 15,
   "metadata": {},
   "outputs": [
    {
     "name": "stdout",
     "output_type": "stream",
     "text": [
      "Test RMSE: 0.146381677056\n"
     ]
    }
   ],
   "source": [
    "y_test_hat = lr.predict(X_test)\n",
    "\n",
    "print 'Test RMSE:', rmse(y_test.values,y_test_hat)"
   ]
  },
  {
   "cell_type": "markdown",
   "metadata": {},
   "source": [
    "## Ridge Regression, gradient descent\n",
    "Perform ridge regression using the gradient descent algorithm. Compute the RMSE value on the test data. "
   ]
  },
  {
   "cell_type": "code",
   "execution_count": 16,
   "metadata": {
    "collapsed": true
   },
   "outputs": [],
   "source": [
    "class RR_model_gd:\n",
    "    \n",
    "    def __init__(self,lbda):\n",
    "        self.lbda = lbda\n",
    "        \n",
    "    def fit(self,X_train,y_train,alpha):\n",
    "        X = X_train.copy()\n",
    "        X['bias'] = np.ones(X.shape[0])\n",
    "        \n",
    "        np.random.seed(42)\n",
    "        w = np.random.normal(0,1,size=X.shape[1])\n",
    "        \n",
    "        epsilon = 1\n",
    "        while epsilon > 10e-7:\n",
    "            w_new = w - alpha/float(X.shape[0])*(np.dot((np.dot(X,w) - y_train),X) + lbda*np.dot(np.identity(X.shape[1]),w))\n",
    "            epsilon = numpy.linalg.norm(w_new - w) #euclidian distance\n",
    "            w = w_new\n",
    "            \n",
    "        self.w = w\n",
    "        return self\n",
    "    \n",
    "    def predict(self,X_test):\n",
    "        X = X_test.copy()\n",
    "        X['bias'] = np.ones(X.shape[0])\n",
    "        \n",
    "        return np.dot(self.w,X.T)"
   ]
  },
  {
   "cell_type": "markdown",
   "metadata": {},
   "source": [
    "Evaluate on training data"
   ]
  },
  {
   "cell_type": "code",
   "execution_count": 17,
   "metadata": {},
   "outputs": [
    {
     "name": "stdout",
     "output_type": "stream",
     "text": [
      "Training RMSE: 0.130148414402\n"
     ]
    }
   ],
   "source": [
    "rr = RR_model_gd(lbda=25)\n",
    "rr = rr.fit(X_train,y_train,0.001)\n",
    "y_train_hat = rr.predict(X_train)\n",
    "\n",
    "print 'Training RMSE:', rmse(y_train.values,y_train_hat)"
   ]
  },
  {
   "cell_type": "markdown",
   "metadata": {},
   "source": [
    "Evaluate on test data"
   ]
  },
  {
   "cell_type": "code",
   "execution_count": 18,
   "metadata": {},
   "outputs": [
    {
     "name": "stdout",
     "output_type": "stream",
     "text": [
      "Test RMSE: 0.145637493808\n"
     ]
    }
   ],
   "source": [
    "y_test_hat = rr.predict(X_test)\n",
    "\n",
    "print 'Test RMSE:', rmse(y_test.values,y_test_hat)"
   ]
  }
 ],
 "metadata": {
  "kernelspec": {
   "display_name": "Python [conda root]",
   "language": "python",
   "name": "conda-root-py"
  },
  "language_info": {
   "codemirror_mode": {
    "name": "ipython",
    "version": 2
   },
   "file_extension": ".py",
   "mimetype": "text/x-python",
   "name": "python",
   "nbconvert_exporter": "python",
   "pygments_lexer": "ipython2",
   "version": "2.7.13"
  },
  "toc": {
   "nav_menu": {},
   "number_sections": true,
   "sideBar": true,
   "skip_h1_title": false,
   "title_cell": "Table of Contents",
   "title_sidebar": "Contents",
   "toc_cell": false,
   "toc_position": {},
   "toc_section_display": true,
   "toc_window_display": false
  }
 },
 "nbformat": 4,
 "nbformat_minor": 2
}
