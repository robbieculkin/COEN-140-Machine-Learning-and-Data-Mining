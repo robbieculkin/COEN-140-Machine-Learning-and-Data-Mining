{
 "cells": [
  {
   "cell_type": "markdown",
   "metadata": {},
   "source": [
    "# COEN 140: Homework 4 (bonus) \n",
    "# Spam Classification with Logistic Regression\n",
    "Robbie Culkin\n",
    "\n",
    "Download the data at http://www.cse.scu.edu/~yfang/coen140/spambase.zip. The data is split into a training set (of size 3065) and a test set (of size 1536).\n",
    "\n",
    "Consider the email spam data set. This consists of 4601 email messages, from which 57 features have been extracted. These are as follows:\n",
    "* 48 features, in [0, 100], giving the percentage of words in a given message which match a given word on the list. The list contains words such as “business”, “free”, “george”, etc. (The data was collected by George Forman, so his name occurs quite a lot.)\n",
    "* 6 features, in [0, 100], giving the percentage of characters in the email that match a given character on the list. The characters are ; ( [ ! $ #\n",
    "* Feature 55: The average length of an uninterrupted sequence of capital letters (max is 40.3, mean is 4.9)\n",
    "* Feature 56: The length of the longest uninterrupted sequence of capital letters (max is 45.0, mean is 52.6)\n",
    "* Feature 57: The sum of the lengths of uninterrupted sequence of capital letters (max is 25.6, mean is 282.2)"
   ]
  },
  {
   "cell_type": "code",
   "execution_count": 1,
   "metadata": {},
   "outputs": [
    {
     "name": "stdout",
     "output_type": "stream",
     "text": [
      "Populating the interactive namespace from numpy and matplotlib\n"
     ]
    }
   ],
   "source": [
    "%pylab inline\n",
    "import pandas as pd"
   ]
  },
  {
   "cell_type": "markdown",
   "metadata": {},
   "source": [
    "# Read data"
   ]
  },
  {
   "cell_type": "code",
   "execution_count": 2,
   "metadata": {
    "collapsed": true
   },
   "outputs": [],
   "source": [
    "train = pd.read_csv('data/spambase/spam-train.csv',header=None)\n",
    "test = pd.read_csv('data/spambase/spam-test.csv',header=None)"
   ]
  },
  {
   "cell_type": "code",
   "execution_count": 3,
   "metadata": {},
   "outputs": [
    {
     "data": {
      "text/html": [
       "<div>\n",
       "<style>\n",
       "    .dataframe thead tr:only-child th {\n",
       "        text-align: right;\n",
       "    }\n",
       "\n",
       "    .dataframe thead th {\n",
       "        text-align: left;\n",
       "    }\n",
       "\n",
       "    .dataframe tbody tr th {\n",
       "        vertical-align: top;\n",
       "    }\n",
       "</style>\n",
       "<table border=\"1\" class=\"dataframe\">\n",
       "  <thead>\n",
       "    <tr style=\"text-align: right;\">\n",
       "      <th></th>\n",
       "      <th>0</th>\n",
       "      <th>1</th>\n",
       "      <th>2</th>\n",
       "      <th>3</th>\n",
       "      <th>4</th>\n",
       "      <th>5</th>\n",
       "      <th>6</th>\n",
       "      <th>7</th>\n",
       "      <th>8</th>\n",
       "      <th>9</th>\n",
       "      <th>...</th>\n",
       "      <th>48</th>\n",
       "      <th>49</th>\n",
       "      <th>50</th>\n",
       "      <th>51</th>\n",
       "      <th>52</th>\n",
       "      <th>53</th>\n",
       "      <th>54</th>\n",
       "      <th>55</th>\n",
       "      <th>56</th>\n",
       "      <th>57</th>\n",
       "    </tr>\n",
       "  </thead>\n",
       "  <tbody>\n",
       "    <tr>\n",
       "      <th>0</th>\n",
       "      <td>0.0</td>\n",
       "      <td>0.00</td>\n",
       "      <td>0.00</td>\n",
       "      <td>0.0</td>\n",
       "      <td>1.01</td>\n",
       "      <td>0.0</td>\n",
       "      <td>0.0</td>\n",
       "      <td>0.0</td>\n",
       "      <td>0.00</td>\n",
       "      <td>0.00</td>\n",
       "      <td>...</td>\n",
       "      <td>0.000</td>\n",
       "      <td>0.088</td>\n",
       "      <td>0.000</td>\n",
       "      <td>0.000</td>\n",
       "      <td>0.088</td>\n",
       "      <td>0.000</td>\n",
       "      <td>6.718</td>\n",
       "      <td>33.0</td>\n",
       "      <td>215.0</td>\n",
       "      <td>1.0</td>\n",
       "    </tr>\n",
       "    <tr>\n",
       "      <th>1</th>\n",
       "      <td>0.0</td>\n",
       "      <td>0.00</td>\n",
       "      <td>0.00</td>\n",
       "      <td>0.0</td>\n",
       "      <td>0.00</td>\n",
       "      <td>0.0</td>\n",
       "      <td>0.0</td>\n",
       "      <td>0.0</td>\n",
       "      <td>0.00</td>\n",
       "      <td>0.00</td>\n",
       "      <td>...</td>\n",
       "      <td>0.098</td>\n",
       "      <td>0.589</td>\n",
       "      <td>0.000</td>\n",
       "      <td>0.000</td>\n",
       "      <td>0.000</td>\n",
       "      <td>0.000</td>\n",
       "      <td>2.044</td>\n",
       "      <td>22.0</td>\n",
       "      <td>92.0</td>\n",
       "      <td>1.0</td>\n",
       "    </tr>\n",
       "    <tr>\n",
       "      <th>2</th>\n",
       "      <td>0.0</td>\n",
       "      <td>0.53</td>\n",
       "      <td>0.00</td>\n",
       "      <td>0.0</td>\n",
       "      <td>1.06</td>\n",
       "      <td>0.0</td>\n",
       "      <td>1.6</td>\n",
       "      <td>0.0</td>\n",
       "      <td>0.00</td>\n",
       "      <td>0.53</td>\n",
       "      <td>...</td>\n",
       "      <td>0.000</td>\n",
       "      <td>0.239</td>\n",
       "      <td>0.079</td>\n",
       "      <td>0.159</td>\n",
       "      <td>0.000</td>\n",
       "      <td>0.000</td>\n",
       "      <td>4.555</td>\n",
       "      <td>51.0</td>\n",
       "      <td>123.0</td>\n",
       "      <td>1.0</td>\n",
       "    </tr>\n",
       "    <tr>\n",
       "      <th>3</th>\n",
       "      <td>0.0</td>\n",
       "      <td>0.00</td>\n",
       "      <td>0.23</td>\n",
       "      <td>0.0</td>\n",
       "      <td>0.92</td>\n",
       "      <td>0.0</td>\n",
       "      <td>0.0</td>\n",
       "      <td>0.0</td>\n",
       "      <td>0.23</td>\n",
       "      <td>0.00</td>\n",
       "      <td>...</td>\n",
       "      <td>0.000</td>\n",
       "      <td>0.130</td>\n",
       "      <td>0.026</td>\n",
       "      <td>0.026</td>\n",
       "      <td>0.000</td>\n",
       "      <td>0.026</td>\n",
       "      <td>2.222</td>\n",
       "      <td>23.0</td>\n",
       "      <td>480.0</td>\n",
       "      <td>0.0</td>\n",
       "    </tr>\n",
       "    <tr>\n",
       "      <th>4</th>\n",
       "      <td>0.0</td>\n",
       "      <td>0.00</td>\n",
       "      <td>0.00</td>\n",
       "      <td>0.0</td>\n",
       "      <td>0.00</td>\n",
       "      <td>0.0</td>\n",
       "      <td>0.0</td>\n",
       "      <td>0.0</td>\n",
       "      <td>0.00</td>\n",
       "      <td>0.00</td>\n",
       "      <td>...</td>\n",
       "      <td>0.000</td>\n",
       "      <td>0.000</td>\n",
       "      <td>0.000</td>\n",
       "      <td>0.000</td>\n",
       "      <td>0.000</td>\n",
       "      <td>0.000</td>\n",
       "      <td>1.428</td>\n",
       "      <td>4.0</td>\n",
       "      <td>10.0</td>\n",
       "      <td>0.0</td>\n",
       "    </tr>\n",
       "  </tbody>\n",
       "</table>\n",
       "<p>5 rows × 58 columns</p>\n",
       "</div>"
      ],
      "text/plain": [
       "    0     1     2    3     4    5    6    7     8     9  ...      48     49  \\\n",
       "0  0.0  0.00  0.00  0.0  1.01  0.0  0.0  0.0  0.00  0.00 ...   0.000  0.088   \n",
       "1  0.0  0.00  0.00  0.0  0.00  0.0  0.0  0.0  0.00  0.00 ...   0.098  0.589   \n",
       "2  0.0  0.53  0.00  0.0  1.06  0.0  1.6  0.0  0.00  0.53 ...   0.000  0.239   \n",
       "3  0.0  0.00  0.23  0.0  0.92  0.0  0.0  0.0  0.23  0.00 ...   0.000  0.130   \n",
       "4  0.0  0.00  0.00  0.0  0.00  0.0  0.0  0.0  0.00  0.00 ...   0.000  0.000   \n",
       "\n",
       "      50     51     52     53     54    55     56   57  \n",
       "0  0.000  0.000  0.088  0.000  6.718  33.0  215.0  1.0  \n",
       "1  0.000  0.000  0.000  0.000  2.044  22.0   92.0  1.0  \n",
       "2  0.079  0.159  0.000  0.000  4.555  51.0  123.0  1.0  \n",
       "3  0.026  0.026  0.000  0.026  2.222  23.0  480.0  0.0  \n",
       "4  0.000  0.000  0.000  0.000  1.428   4.0   10.0  0.0  \n",
       "\n",
       "[5 rows x 58 columns]"
      ]
     },
     "execution_count": 3,
     "metadata": {},
     "output_type": "execute_result"
    }
   ],
   "source": [
    "train.head()"
   ]
  },
  {
   "cell_type": "markdown",
   "metadata": {},
   "source": [
    "# X/y split"
   ]
  },
  {
   "cell_type": "code",
   "execution_count": 4,
   "metadata": {
    "collapsed": true
   },
   "outputs": [],
   "source": [
    "X_train = train.drop(57,axis=1)\n",
    "y_train = train[:][57]"
   ]
  },
  {
   "cell_type": "code",
   "execution_count": 5,
   "metadata": {
    "collapsed": true
   },
   "outputs": [],
   "source": [
    "X_test = test.drop(57,axis=1)\n",
    "y_test = test[:][57]"
   ]
  },
  {
   "cell_type": "markdown",
   "metadata": {},
   "source": [
    "# Preprocessing\n",
    "One can imagine performing several kinds of preprocessing to this data. Try each of the following separately:\n",
    "## a. Standardize the columns so they all have mean 0 and unit variance."
   ]
  },
  {
   "cell_type": "code",
   "execution_count": 6,
   "metadata": {
    "collapsed": true
   },
   "outputs": [],
   "source": [
    "def zmuv(X_in):\n",
    "    X = X_in.copy()\n",
    "    X = (X - X.mean(axis=0))/X.std(axis=0)\n",
    "    return X"
   ]
  },
  {
   "cell_type": "code",
   "execution_count": 7,
   "metadata": {},
   "outputs": [
    {
     "data": {
      "text/html": [
       "<div>\n",
       "<style>\n",
       "    .dataframe thead tr:only-child th {\n",
       "        text-align: right;\n",
       "    }\n",
       "\n",
       "    .dataframe thead th {\n",
       "        text-align: left;\n",
       "    }\n",
       "\n",
       "    .dataframe tbody tr th {\n",
       "        vertical-align: top;\n",
       "    }\n",
       "</style>\n",
       "<table border=\"1\" class=\"dataframe\">\n",
       "  <thead>\n",
       "    <tr style=\"text-align: right;\">\n",
       "      <th></th>\n",
       "      <th>0</th>\n",
       "      <th>1</th>\n",
       "      <th>2</th>\n",
       "      <th>3</th>\n",
       "      <th>4</th>\n",
       "      <th>5</th>\n",
       "      <th>6</th>\n",
       "      <th>7</th>\n",
       "      <th>8</th>\n",
       "      <th>9</th>\n",
       "      <th>...</th>\n",
       "      <th>47</th>\n",
       "      <th>48</th>\n",
       "      <th>49</th>\n",
       "      <th>50</th>\n",
       "      <th>51</th>\n",
       "      <th>52</th>\n",
       "      <th>53</th>\n",
       "      <th>54</th>\n",
       "      <th>55</th>\n",
       "      <th>56</th>\n",
       "    </tr>\n",
       "  </thead>\n",
       "  <tbody>\n",
       "    <tr>\n",
       "      <th>0</th>\n",
       "      <td>-0.341197</td>\n",
       "      <td>-0.167892</td>\n",
       "      <td>-0.559543</td>\n",
       "      <td>-0.047041</td>\n",
       "      <td>0.990915</td>\n",
       "      <td>-0.358135</td>\n",
       "      <td>-0.279760</td>\n",
       "      <td>-0.274942</td>\n",
       "      <td>-0.318200</td>\n",
       "      <td>-0.395557</td>\n",
       "      <td>...</td>\n",
       "      <td>-0.114562</td>\n",
       "      <td>-0.160496</td>\n",
       "      <td>-0.219886</td>\n",
       "      <td>-0.164386</td>\n",
       "      <td>-0.449056</td>\n",
       "      <td>0.028504</td>\n",
       "      <td>-0.099663</td>\n",
       "      <td>0.054088</td>\n",
       "      <td>-0.129557</td>\n",
       "      <td>-0.114247</td>\n",
       "    </tr>\n",
       "    <tr>\n",
       "      <th>1</th>\n",
       "      <td>-0.341197</td>\n",
       "      <td>-0.167892</td>\n",
       "      <td>-0.559543</td>\n",
       "      <td>-0.047041</td>\n",
       "      <td>-0.450720</td>\n",
       "      <td>-0.358135</td>\n",
       "      <td>-0.279760</td>\n",
       "      <td>-0.274942</td>\n",
       "      <td>-0.318200</td>\n",
       "      <td>-0.395557</td>\n",
       "      <td>...</td>\n",
       "      <td>-0.114562</td>\n",
       "      <td>0.244309</td>\n",
       "      <td>2.059477</td>\n",
       "      <td>-0.164386</td>\n",
       "      <td>-0.449056</td>\n",
       "      <td>-0.297565</td>\n",
       "      <td>-0.099663</td>\n",
       "      <td>-0.091047</td>\n",
       "      <td>-0.215281</td>\n",
       "      <td>-0.306383</td>\n",
       "    </tr>\n",
       "    <tr>\n",
       "      <th>2</th>\n",
       "      <td>-0.341197</td>\n",
       "      <td>0.259688</td>\n",
       "      <td>-0.559543</td>\n",
       "      <td>-0.047041</td>\n",
       "      <td>1.062283</td>\n",
       "      <td>-0.358135</td>\n",
       "      <td>3.589996</td>\n",
       "      <td>-0.274942</td>\n",
       "      <td>-0.318200</td>\n",
       "      <td>0.460440</td>\n",
       "      <td>...</td>\n",
       "      <td>-0.114562</td>\n",
       "      <td>-0.160496</td>\n",
       "      <td>0.467108</td>\n",
       "      <td>0.603462</td>\n",
       "      <td>-0.169589</td>\n",
       "      <td>-0.297565</td>\n",
       "      <td>-0.099663</td>\n",
       "      <td>-0.013076</td>\n",
       "      <td>0.010717</td>\n",
       "      <td>-0.257958</td>\n",
       "    </tr>\n",
       "    <tr>\n",
       "      <th>3</th>\n",
       "      <td>-0.341197</td>\n",
       "      <td>-0.167892</td>\n",
       "      <td>-0.113615</td>\n",
       "      <td>-0.047041</td>\n",
       "      <td>0.862453</td>\n",
       "      <td>-0.358135</td>\n",
       "      <td>-0.279760</td>\n",
       "      <td>-0.274942</td>\n",
       "      <td>0.505942</td>\n",
       "      <td>-0.395557</td>\n",
       "      <td>...</td>\n",
       "      <td>-0.114562</td>\n",
       "      <td>-0.160496</td>\n",
       "      <td>-0.028801</td>\n",
       "      <td>0.088323</td>\n",
       "      <td>-0.403357</td>\n",
       "      <td>-0.297565</td>\n",
       "      <td>-0.037943</td>\n",
       "      <td>-0.085520</td>\n",
       "      <td>-0.207488</td>\n",
       "      <td>0.299705</td>\n",
       "    </tr>\n",
       "    <tr>\n",
       "      <th>4</th>\n",
       "      <td>-0.341197</td>\n",
       "      <td>-0.167892</td>\n",
       "      <td>-0.559543</td>\n",
       "      <td>-0.047041</td>\n",
       "      <td>-0.450720</td>\n",
       "      <td>-0.358135</td>\n",
       "      <td>-0.279760</td>\n",
       "      <td>-0.274942</td>\n",
       "      <td>-0.318200</td>\n",
       "      <td>-0.395557</td>\n",
       "      <td>...</td>\n",
       "      <td>-0.114562</td>\n",
       "      <td>-0.160496</td>\n",
       "      <td>-0.620253</td>\n",
       "      <td>-0.164386</td>\n",
       "      <td>-0.449056</td>\n",
       "      <td>-0.297565</td>\n",
       "      <td>-0.099663</td>\n",
       "      <td>-0.110175</td>\n",
       "      <td>-0.355555</td>\n",
       "      <td>-0.434474</td>\n",
       "    </tr>\n",
       "  </tbody>\n",
       "</table>\n",
       "<p>5 rows × 57 columns</p>\n",
       "</div>"
      ],
      "text/plain": [
       "         0         1         2         3         4         5         6   \\\n",
       "0 -0.341197 -0.167892 -0.559543 -0.047041  0.990915 -0.358135 -0.279760   \n",
       "1 -0.341197 -0.167892 -0.559543 -0.047041 -0.450720 -0.358135 -0.279760   \n",
       "2 -0.341197  0.259688 -0.559543 -0.047041  1.062283 -0.358135  3.589996   \n",
       "3 -0.341197 -0.167892 -0.113615 -0.047041  0.862453 -0.358135 -0.279760   \n",
       "4 -0.341197 -0.167892 -0.559543 -0.047041 -0.450720 -0.358135 -0.279760   \n",
       "\n",
       "         7         8         9     ...           47        48        49  \\\n",
       "0 -0.274942 -0.318200 -0.395557    ...    -0.114562 -0.160496 -0.219886   \n",
       "1 -0.274942 -0.318200 -0.395557    ...    -0.114562  0.244309  2.059477   \n",
       "2 -0.274942 -0.318200  0.460440    ...    -0.114562 -0.160496  0.467108   \n",
       "3 -0.274942  0.505942 -0.395557    ...    -0.114562 -0.160496 -0.028801   \n",
       "4 -0.274942 -0.318200 -0.395557    ...    -0.114562 -0.160496 -0.620253   \n",
       "\n",
       "         50        51        52        53        54        55        56  \n",
       "0 -0.164386 -0.449056  0.028504 -0.099663  0.054088 -0.129557 -0.114247  \n",
       "1 -0.164386 -0.449056 -0.297565 -0.099663 -0.091047 -0.215281 -0.306383  \n",
       "2  0.603462 -0.169589 -0.297565 -0.099663 -0.013076  0.010717 -0.257958  \n",
       "3  0.088323 -0.403357 -0.297565 -0.037943 -0.085520 -0.207488  0.299705  \n",
       "4 -0.164386 -0.449056 -0.297565 -0.099663 -0.110175 -0.355555 -0.434474  \n",
       "\n",
       "[5 rows x 57 columns]"
      ]
     },
     "execution_count": 7,
     "metadata": {},
     "output_type": "execute_result"
    }
   ],
   "source": [
    "zmuv(X_train).head()"
   ]
  },
  {
   "cell_type": "markdown",
   "metadata": {},
   "source": [
    "## b. Transform the features using log(xij + 0.1)."
   ]
  },
  {
   "cell_type": "code",
   "execution_count": 8,
   "metadata": {
    "collapsed": true
   },
   "outputs": [],
   "source": [
    "def log_transform_helper(x):\n",
    "    return log(x+0.1)"
   ]
  },
  {
   "cell_type": "code",
   "execution_count": 9,
   "metadata": {
    "collapsed": true
   },
   "outputs": [],
   "source": [
    "def log_transform(X_in):\n",
    "    return X_in.applymap(log_transform_helper)"
   ]
  },
  {
   "cell_type": "code",
   "execution_count": 10,
   "metadata": {},
   "outputs": [
    {
     "data": {
      "text/html": [
       "<div>\n",
       "<style>\n",
       "    .dataframe thead tr:only-child th {\n",
       "        text-align: right;\n",
       "    }\n",
       "\n",
       "    .dataframe thead th {\n",
       "        text-align: left;\n",
       "    }\n",
       "\n",
       "    .dataframe tbody tr th {\n",
       "        vertical-align: top;\n",
       "    }\n",
       "</style>\n",
       "<table border=\"1\" class=\"dataframe\">\n",
       "  <thead>\n",
       "    <tr style=\"text-align: right;\">\n",
       "      <th></th>\n",
       "      <th>0</th>\n",
       "      <th>1</th>\n",
       "      <th>2</th>\n",
       "      <th>3</th>\n",
       "      <th>4</th>\n",
       "      <th>5</th>\n",
       "      <th>6</th>\n",
       "      <th>7</th>\n",
       "      <th>8</th>\n",
       "      <th>9</th>\n",
       "      <th>...</th>\n",
       "      <th>47</th>\n",
       "      <th>48</th>\n",
       "      <th>49</th>\n",
       "      <th>50</th>\n",
       "      <th>51</th>\n",
       "      <th>52</th>\n",
       "      <th>53</th>\n",
       "      <th>54</th>\n",
       "      <th>55</th>\n",
       "      <th>56</th>\n",
       "    </tr>\n",
       "  </thead>\n",
       "  <tbody>\n",
       "    <tr>\n",
       "      <th>0</th>\n",
       "      <td>-2.302585</td>\n",
       "      <td>-2.302585</td>\n",
       "      <td>-2.302585</td>\n",
       "      <td>-2.302585</td>\n",
       "      <td>0.104360</td>\n",
       "      <td>-2.302585</td>\n",
       "      <td>-2.302585</td>\n",
       "      <td>-2.302585</td>\n",
       "      <td>-2.302585</td>\n",
       "      <td>-2.302585</td>\n",
       "      <td>...</td>\n",
       "      <td>-2.302585</td>\n",
       "      <td>-2.302585</td>\n",
       "      <td>-1.671313</td>\n",
       "      <td>-2.302585</td>\n",
       "      <td>-2.302585</td>\n",
       "      <td>-1.671313</td>\n",
       "      <td>-2.302585</td>\n",
       "      <td>1.919566</td>\n",
       "      <td>3.499533</td>\n",
       "      <td>5.371103</td>\n",
       "    </tr>\n",
       "    <tr>\n",
       "      <th>1</th>\n",
       "      <td>-2.302585</td>\n",
       "      <td>-2.302585</td>\n",
       "      <td>-2.302585</td>\n",
       "      <td>-2.302585</td>\n",
       "      <td>-2.302585</td>\n",
       "      <td>-2.302585</td>\n",
       "      <td>-2.302585</td>\n",
       "      <td>-2.302585</td>\n",
       "      <td>-2.302585</td>\n",
       "      <td>-2.302585</td>\n",
       "      <td>...</td>\n",
       "      <td>-2.302585</td>\n",
       "      <td>-1.619488</td>\n",
       "      <td>-0.372514</td>\n",
       "      <td>-2.302585</td>\n",
       "      <td>-2.302585</td>\n",
       "      <td>-2.302585</td>\n",
       "      <td>-2.302585</td>\n",
       "      <td>0.762673</td>\n",
       "      <td>3.095578</td>\n",
       "      <td>4.522875</td>\n",
       "    </tr>\n",
       "    <tr>\n",
       "      <th>2</th>\n",
       "      <td>-2.302585</td>\n",
       "      <td>-0.462035</td>\n",
       "      <td>-2.302585</td>\n",
       "      <td>-2.302585</td>\n",
       "      <td>0.148420</td>\n",
       "      <td>-2.302585</td>\n",
       "      <td>0.530628</td>\n",
       "      <td>-2.302585</td>\n",
       "      <td>-2.302585</td>\n",
       "      <td>-0.462035</td>\n",
       "      <td>...</td>\n",
       "      <td>-2.302585</td>\n",
       "      <td>-2.302585</td>\n",
       "      <td>-1.081755</td>\n",
       "      <td>-1.720369</td>\n",
       "      <td>-1.350927</td>\n",
       "      <td>-2.302585</td>\n",
       "      <td>-2.302585</td>\n",
       "      <td>1.537942</td>\n",
       "      <td>3.933784</td>\n",
       "      <td>4.812997</td>\n",
       "    </tr>\n",
       "    <tr>\n",
       "      <th>3</th>\n",
       "      <td>-2.302585</td>\n",
       "      <td>-2.302585</td>\n",
       "      <td>-1.108663</td>\n",
       "      <td>-2.302585</td>\n",
       "      <td>0.019803</td>\n",
       "      <td>-2.302585</td>\n",
       "      <td>-2.302585</td>\n",
       "      <td>-2.302585</td>\n",
       "      <td>-1.108663</td>\n",
       "      <td>-2.302585</td>\n",
       "      <td>...</td>\n",
       "      <td>-2.302585</td>\n",
       "      <td>-2.302585</td>\n",
       "      <td>-1.469676</td>\n",
       "      <td>-2.071473</td>\n",
       "      <td>-2.071473</td>\n",
       "      <td>-2.302585</td>\n",
       "      <td>-2.071473</td>\n",
       "      <td>0.842429</td>\n",
       "      <td>3.139833</td>\n",
       "      <td>6.173994</td>\n",
       "    </tr>\n",
       "    <tr>\n",
       "      <th>4</th>\n",
       "      <td>-2.302585</td>\n",
       "      <td>-2.302585</td>\n",
       "      <td>-2.302585</td>\n",
       "      <td>-2.302585</td>\n",
       "      <td>-2.302585</td>\n",
       "      <td>-2.302585</td>\n",
       "      <td>-2.302585</td>\n",
       "      <td>-2.302585</td>\n",
       "      <td>-2.302585</td>\n",
       "      <td>-2.302585</td>\n",
       "      <td>...</td>\n",
       "      <td>-2.302585</td>\n",
       "      <td>-2.302585</td>\n",
       "      <td>-2.302585</td>\n",
       "      <td>-2.302585</td>\n",
       "      <td>-2.302585</td>\n",
       "      <td>-2.302585</td>\n",
       "      <td>-2.302585</td>\n",
       "      <td>0.423960</td>\n",
       "      <td>1.410987</td>\n",
       "      <td>2.312535</td>\n",
       "    </tr>\n",
       "  </tbody>\n",
       "</table>\n",
       "<p>5 rows × 57 columns</p>\n",
       "</div>"
      ],
      "text/plain": [
       "         0         1         2         3         4         5         6   \\\n",
       "0 -2.302585 -2.302585 -2.302585 -2.302585  0.104360 -2.302585 -2.302585   \n",
       "1 -2.302585 -2.302585 -2.302585 -2.302585 -2.302585 -2.302585 -2.302585   \n",
       "2 -2.302585 -0.462035 -2.302585 -2.302585  0.148420 -2.302585  0.530628   \n",
       "3 -2.302585 -2.302585 -1.108663 -2.302585  0.019803 -2.302585 -2.302585   \n",
       "4 -2.302585 -2.302585 -2.302585 -2.302585 -2.302585 -2.302585 -2.302585   \n",
       "\n",
       "         7         8         9     ...           47        48        49  \\\n",
       "0 -2.302585 -2.302585 -2.302585    ...    -2.302585 -2.302585 -1.671313   \n",
       "1 -2.302585 -2.302585 -2.302585    ...    -2.302585 -1.619488 -0.372514   \n",
       "2 -2.302585 -2.302585 -0.462035    ...    -2.302585 -2.302585 -1.081755   \n",
       "3 -2.302585 -1.108663 -2.302585    ...    -2.302585 -2.302585 -1.469676   \n",
       "4 -2.302585 -2.302585 -2.302585    ...    -2.302585 -2.302585 -2.302585   \n",
       "\n",
       "         50        51        52        53        54        55        56  \n",
       "0 -2.302585 -2.302585 -1.671313 -2.302585  1.919566  3.499533  5.371103  \n",
       "1 -2.302585 -2.302585 -2.302585 -2.302585  0.762673  3.095578  4.522875  \n",
       "2 -1.720369 -1.350927 -2.302585 -2.302585  1.537942  3.933784  4.812997  \n",
       "3 -2.071473 -2.071473 -2.302585 -2.071473  0.842429  3.139833  6.173994  \n",
       "4 -2.302585 -2.302585 -2.302585 -2.302585  0.423960  1.410987  2.312535  \n",
       "\n",
       "[5 rows x 57 columns]"
      ]
     },
     "execution_count": 10,
     "metadata": {},
     "output_type": "execute_result"
    }
   ],
   "source": [
    "log_transform(X_train).head()"
   ]
  },
  {
   "cell_type": "markdown",
   "metadata": {},
   "source": [
    "## c. Binarize the features using I(xij > 0)."
   ]
  },
  {
   "cell_type": "code",
   "execution_count": 11,
   "metadata": {
    "collapsed": true
   },
   "outputs": [],
   "source": [
    "def binarize_helper(x):\n",
    "    if x > 0:\n",
    "        return 1\n",
    "    else:\n",
    "        return 0"
   ]
  },
  {
   "cell_type": "code",
   "execution_count": 12,
   "metadata": {
    "collapsed": true
   },
   "outputs": [],
   "source": [
    "def binarize(X_in):\n",
    "    return X_in.applymap(binarize_helper)"
   ]
  },
  {
   "cell_type": "code",
   "execution_count": 13,
   "metadata": {},
   "outputs": [
    {
     "data": {
      "text/html": [
       "<div>\n",
       "<style>\n",
       "    .dataframe thead tr:only-child th {\n",
       "        text-align: right;\n",
       "    }\n",
       "\n",
       "    .dataframe thead th {\n",
       "        text-align: left;\n",
       "    }\n",
       "\n",
       "    .dataframe tbody tr th {\n",
       "        vertical-align: top;\n",
       "    }\n",
       "</style>\n",
       "<table border=\"1\" class=\"dataframe\">\n",
       "  <thead>\n",
       "    <tr style=\"text-align: right;\">\n",
       "      <th></th>\n",
       "      <th>0</th>\n",
       "      <th>1</th>\n",
       "      <th>2</th>\n",
       "      <th>3</th>\n",
       "      <th>4</th>\n",
       "      <th>5</th>\n",
       "      <th>6</th>\n",
       "      <th>7</th>\n",
       "      <th>8</th>\n",
       "      <th>9</th>\n",
       "      <th>...</th>\n",
       "      <th>47</th>\n",
       "      <th>48</th>\n",
       "      <th>49</th>\n",
       "      <th>50</th>\n",
       "      <th>51</th>\n",
       "      <th>52</th>\n",
       "      <th>53</th>\n",
       "      <th>54</th>\n",
       "      <th>55</th>\n",
       "      <th>56</th>\n",
       "    </tr>\n",
       "  </thead>\n",
       "  <tbody>\n",
       "    <tr>\n",
       "      <th>0</th>\n",
       "      <td>0</td>\n",
       "      <td>0</td>\n",
       "      <td>0</td>\n",
       "      <td>0</td>\n",
       "      <td>1</td>\n",
       "      <td>0</td>\n",
       "      <td>0</td>\n",
       "      <td>0</td>\n",
       "      <td>0</td>\n",
       "      <td>0</td>\n",
       "      <td>...</td>\n",
       "      <td>0</td>\n",
       "      <td>0</td>\n",
       "      <td>1</td>\n",
       "      <td>0</td>\n",
       "      <td>0</td>\n",
       "      <td>1</td>\n",
       "      <td>0</td>\n",
       "      <td>1</td>\n",
       "      <td>1</td>\n",
       "      <td>1</td>\n",
       "    </tr>\n",
       "    <tr>\n",
       "      <th>1</th>\n",
       "      <td>0</td>\n",
       "      <td>0</td>\n",
       "      <td>0</td>\n",
       "      <td>0</td>\n",
       "      <td>0</td>\n",
       "      <td>0</td>\n",
       "      <td>0</td>\n",
       "      <td>0</td>\n",
       "      <td>0</td>\n",
       "      <td>0</td>\n",
       "      <td>...</td>\n",
       "      <td>0</td>\n",
       "      <td>1</td>\n",
       "      <td>1</td>\n",
       "      <td>0</td>\n",
       "      <td>0</td>\n",
       "      <td>0</td>\n",
       "      <td>0</td>\n",
       "      <td>1</td>\n",
       "      <td>1</td>\n",
       "      <td>1</td>\n",
       "    </tr>\n",
       "    <tr>\n",
       "      <th>2</th>\n",
       "      <td>0</td>\n",
       "      <td>1</td>\n",
       "      <td>0</td>\n",
       "      <td>0</td>\n",
       "      <td>1</td>\n",
       "      <td>0</td>\n",
       "      <td>1</td>\n",
       "      <td>0</td>\n",
       "      <td>0</td>\n",
       "      <td>1</td>\n",
       "      <td>...</td>\n",
       "      <td>0</td>\n",
       "      <td>0</td>\n",
       "      <td>1</td>\n",
       "      <td>1</td>\n",
       "      <td>1</td>\n",
       "      <td>0</td>\n",
       "      <td>0</td>\n",
       "      <td>1</td>\n",
       "      <td>1</td>\n",
       "      <td>1</td>\n",
       "    </tr>\n",
       "    <tr>\n",
       "      <th>3</th>\n",
       "      <td>0</td>\n",
       "      <td>0</td>\n",
       "      <td>1</td>\n",
       "      <td>0</td>\n",
       "      <td>1</td>\n",
       "      <td>0</td>\n",
       "      <td>0</td>\n",
       "      <td>0</td>\n",
       "      <td>1</td>\n",
       "      <td>0</td>\n",
       "      <td>...</td>\n",
       "      <td>0</td>\n",
       "      <td>0</td>\n",
       "      <td>1</td>\n",
       "      <td>1</td>\n",
       "      <td>1</td>\n",
       "      <td>0</td>\n",
       "      <td>1</td>\n",
       "      <td>1</td>\n",
       "      <td>1</td>\n",
       "      <td>1</td>\n",
       "    </tr>\n",
       "    <tr>\n",
       "      <th>4</th>\n",
       "      <td>0</td>\n",
       "      <td>0</td>\n",
       "      <td>0</td>\n",
       "      <td>0</td>\n",
       "      <td>0</td>\n",
       "      <td>0</td>\n",
       "      <td>0</td>\n",
       "      <td>0</td>\n",
       "      <td>0</td>\n",
       "      <td>0</td>\n",
       "      <td>...</td>\n",
       "      <td>0</td>\n",
       "      <td>0</td>\n",
       "      <td>0</td>\n",
       "      <td>0</td>\n",
       "      <td>0</td>\n",
       "      <td>0</td>\n",
       "      <td>0</td>\n",
       "      <td>1</td>\n",
       "      <td>1</td>\n",
       "      <td>1</td>\n",
       "    </tr>\n",
       "  </tbody>\n",
       "</table>\n",
       "<p>5 rows × 57 columns</p>\n",
       "</div>"
      ],
      "text/plain": [
       "   0   1   2   3   4   5   6   7   8   9  ...  47  48  49  50  51  52  53  54  \\\n",
       "0   0   0   0   0   1   0   0   0   0   0 ...   0   0   1   0   0   1   0   1   \n",
       "1   0   0   0   0   0   0   0   0   0   0 ...   0   1   1   0   0   0   0   1   \n",
       "2   0   1   0   0   1   0   1   0   0   1 ...   0   0   1   1   1   0   0   1   \n",
       "3   0   0   1   0   1   0   0   0   1   0 ...   0   0   1   1   1   0   1   1   \n",
       "4   0   0   0   0   0   0   0   0   0   0 ...   0   0   0   0   0   0   0   1   \n",
       "\n",
       "   55  56  \n",
       "0   1   1  \n",
       "1   1   1  \n",
       "2   1   1  \n",
       "3   1   1  \n",
       "4   1   1  \n",
       "\n",
       "[5 rows x 57 columns]"
      ]
     },
     "execution_count": 13,
     "metadata": {},
     "output_type": "execute_result"
    }
   ],
   "source": [
    "binarize(X_train).head()"
   ]
  },
  {
   "cell_type": "markdown",
   "metadata": {},
   "source": [
    "# Logistic regression model, with gradient descent"
   ]
  },
  {
   "cell_type": "code",
   "execution_count": 14,
   "metadata": {
    "collapsed": true
   },
   "outputs": [],
   "source": [
    "def sigmoid(x):\n",
    "    return 1./(1 + math.exp(-x))\n",
    "\n",
    "v_sigmoid = np.vectorize(sigmoid)"
   ]
  },
  {
   "cell_type": "code",
   "execution_count": 15,
   "metadata": {
    "collapsed": true
   },
   "outputs": [],
   "source": [
    "class LogR_model:\n",
    "    \n",
    "    def fit(self,X_train,y_train,alpha):\n",
    "        X = X_train.copy()\n",
    "        X['bias'] = np.ones(X.shape[0])\n",
    "        \n",
    "        np.random.seed(42)\n",
    "        w = np.random.normal(0,1,size=X.shape[1])\n",
    "        \n",
    "        epsilon = 1\n",
    "        while epsilon > 10e-5:\n",
    "            dLdw = np.dot((v_sigmoid(np.dot(X,w)) - y_train),X)\n",
    "            \n",
    "            w_new = w - alpha*dLdw\n",
    "            epsilon = numpy.linalg.norm(w_new - w) #euclidian distance\n",
    "            w = w_new\n",
    "            \n",
    "        self.w = w\n",
    "        return self\n",
    "    \n",
    "    def predict(self,X_test):\n",
    "        X = X_test.copy()\n",
    "        X['bias'] = np.ones(X.shape[0])\n",
    "        \n",
    "        return v_sigmoid(np.dot(self.w,X.T)) # sigmoid to squash outputs to [0,1]"
   ]
  },
  {
   "cell_type": "markdown",
   "metadata": {},
   "source": [
    "# Evaluate using different normalizations"
   ]
  },
  {
   "cell_type": "code",
   "execution_count": 16,
   "metadata": {
    "collapsed": true
   },
   "outputs": [],
   "source": [
    "def error(y_true,y_hat):\n",
    "    incorrect = 0.\n",
    "    for ii in range(len(y_true)):\n",
    "        incorrect += abs(y_true[ii] - round(y_hat[ii]))\n",
    "        \n",
    "    return incorrect/len(y_true)"
   ]
  },
  {
   "cell_type": "markdown",
   "metadata": {},
   "source": [
    "## a. Zero mean unit variance"
   ]
  },
  {
   "cell_type": "code",
   "execution_count": 17,
   "metadata": {},
   "outputs": [
    {
     "data": {
      "text/plain": [
       "<__main__.LogR_model instance at 0x10bc81c20>"
      ]
     },
     "execution_count": 17,
     "metadata": {},
     "output_type": "execute_result"
    }
   ],
   "source": [
    "lr = LogR_model()\n",
    "lr.fit(zmuv(X_train),y_train,0.00001)"
   ]
  },
  {
   "cell_type": "code",
   "execution_count": 18,
   "metadata": {},
   "outputs": [
    {
     "name": "stdout",
     "output_type": "stream",
     "text": [
      "train error: 0.0711256117455\n"
     ]
    }
   ],
   "source": [
    "y_train_hat = lr.predict(zmuv(X_train))\n",
    "print 'train error:', error(y_train,y_train_hat)"
   ]
  },
  {
   "cell_type": "code",
   "execution_count": 19,
   "metadata": {},
   "outputs": [
    {
     "name": "stdout",
     "output_type": "stream",
     "text": [
      "test error: 0.0690104166667\n"
     ]
    }
   ],
   "source": [
    "y_test_hat = lr.predict(zmuv(X_test))\n",
    "print 'test error:', error(y_test,y_test_hat)"
   ]
  },
  {
   "cell_type": "markdown",
   "metadata": {},
   "source": [
    "## b. Log transform"
   ]
  },
  {
   "cell_type": "code",
   "execution_count": 20,
   "metadata": {},
   "outputs": [
    {
     "data": {
      "text/plain": [
       "<__main__.LogR_model instance at 0x10bc56488>"
      ]
     },
     "execution_count": 20,
     "metadata": {},
     "output_type": "execute_result"
    }
   ],
   "source": [
    "lr2 = LogR_model()\n",
    "lr2.fit(log_transform(X_train),y_train,0.000001)"
   ]
  },
  {
   "cell_type": "code",
   "execution_count": 21,
   "metadata": {},
   "outputs": [
    {
     "name": "stdout",
     "output_type": "stream",
     "text": [
      "train error: 0.0688417618271\n"
     ]
    }
   ],
   "source": [
    "y_train_hat = lr2.predict(log_transform(X_train))\n",
    "print 'train error:', error(y_train,y_train_hat)"
   ]
  },
  {
   "cell_type": "code",
   "execution_count": 22,
   "metadata": {},
   "outputs": [
    {
     "name": "stdout",
     "output_type": "stream",
     "text": [
      "test error: 0.05859375\n"
     ]
    }
   ],
   "source": [
    "y_test_hat = lr2.predict(log_transform(X_test))\n",
    "print 'test error:', error(y_test,y_test_hat)"
   ]
  },
  {
   "cell_type": "markdown",
   "metadata": {},
   "source": [
    "## c. Binarize"
   ]
  },
  {
   "cell_type": "code",
   "execution_count": 23,
   "metadata": {},
   "outputs": [
    {
     "data": {
      "text/plain": [
       "<__main__.LogR_model instance at 0x10bc56290>"
      ]
     },
     "execution_count": 23,
     "metadata": {},
     "output_type": "execute_result"
    }
   ],
   "source": [
    "lr3 = LogR_model()\n",
    "lr3.fit(binarize(X_train),y_train,0.00001)"
   ]
  },
  {
   "cell_type": "code",
   "execution_count": 24,
   "metadata": {},
   "outputs": [
    {
     "name": "stdout",
     "output_type": "stream",
     "text": [
      "train error: 0.068189233279\n"
     ]
    }
   ],
   "source": [
    "y_train_hat = lr3.predict(binarize(X_train))\n",
    "print 'train error:', error(y_train,y_train_hat)"
   ]
  },
  {
   "cell_type": "code",
   "execution_count": 25,
   "metadata": {},
   "outputs": [
    {
     "name": "stdout",
     "output_type": "stream",
     "text": [
      "test error: 0.0638020833333\n"
     ]
    }
   ],
   "source": [
    "y_test_hat = lr3.predict(binarize(X_test))\n",
    "print 'test error:', error(y_test,y_test_hat)"
   ]
  },
  {
   "cell_type": "code",
   "execution_count": null,
   "metadata": {
    "collapsed": true
   },
   "outputs": [],
   "source": []
  }
 ],
 "metadata": {
  "kernelspec": {
   "display_name": "Python [conda root]",
   "language": "python",
   "name": "conda-root-py"
  },
  "language_info": {
   "codemirror_mode": {
    "name": "ipython",
    "version": 2
   },
   "file_extension": ".py",
   "mimetype": "text/x-python",
   "name": "python",
   "nbconvert_exporter": "python",
   "pygments_lexer": "ipython2",
   "version": "2.7.13"
  },
  "toc": {
   "nav_menu": {},
   "number_sections": false,
   "sideBar": true,
   "skip_h1_title": false,
   "title_cell": "Table of Contents",
   "title_sidebar": "Contents",
   "toc_cell": false,
   "toc_position": {},
   "toc_section_display": true,
   "toc_window_display": false
  }
 },
 "nbformat": 4,
 "nbformat_minor": 2
}
